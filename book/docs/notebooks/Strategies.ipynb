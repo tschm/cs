{
 "cells": [
  {
   "cell_type": "markdown",
   "metadata": {
    "pycharm": {},
    "slideshow": {
     "slide_type": "slide"
    }
   },
   "source": [
    "# Implement a hedge fund strategy in 10 lines\n",
    "### Thomas Schmelzer\n",
    "### thomas.schmelzer@gmail.com\n",
    "### https://github.com/tschm/cs\n",
    "\n"
   ]
  },
  {
   "cell_type": "markdown",
   "metadata": {
    "pycharm": {},
    "slideshow": {
     "slide_type": "slide"
    }
   },
   "source": [
    "* Summer 2017: Lunch with Cyrus Fazel (CEO, Swissborg)\n",
    "* Motivation to implement a CTA strategy with less than 10 lines of code\n",
    "* Today: Attempt to help demystifying quantitative hedge funds and their level of sophistication."
   ]
  },
  {
   "cell_type": "markdown",
   "metadata": {
    "pycharm": {},
    "slideshow": {
     "slide_type": "slide"
    }
   },
   "source": [
    "Baz, Jamil and Granger, Nicolas M. and Harvey, Campbell R. and Le Roux, Nicolas and Rattray, Sandy, \n",
    "Dissecting Investment Strategies in the Cross Section and Time Series (December 4, 2015). \n",
    "Available at SSRN: https://ssrn.com/abstract=2695101 or http://dx.doi.org/10.2139/ssrn.2695101\n"
   ]
  },
  {
   "cell_type": "markdown",
   "metadata": {
    "pycharm": {},
    "slideshow": {
     "slide_type": "slide"
    }
   },
   "source": [
    "# CTA = Commodity Trading Advisor\n",
    "* Man AHL\n",
    "* Winton Capital\n",
    "* Aspect Capital\n",
    "* BlueTrend (part of BlueCrest, today Systematica)\n",
    "* Solaise Capital\n",
    "* Ashenden Capital\n",
    "* ...\n",
    "* Barclays CTA Index\n"
   ]
  },
  {
   "cell_type": "markdown",
   "metadata": {
    "pycharm": {},
    "slideshow": {
     "slide_type": "slide"
    }
   },
   "source": [
    "In a first experiment we run a classic MACD system:\n",
    "\n",
    "[Experiment 1](Experiment1.ipynb)"
   ]
  },
  {
   "cell_type": "markdown",
   "metadata": {
    "pycharm": {},
    "slideshow": {
     "slide_type": "slide"
    }
   },
   "source": [
    "In a second experiment we volatility-adjust the positions of a classic MACD system:\n",
    "\n",
    "[Experiment 2](Experiment2.ipynb)    "
   ]
  },
  {
   "cell_type": "markdown",
   "metadata": {
    "pycharm": {},
    "slideshow": {
     "slide_type": "slide"
    }
   },
   "source": [
    "In a third experiment we work with adjusted prices and apply oscillators\n",
    "\n",
    "[Experiment 3](Experiment3.ipynb)\n"
   ]
  },
  {
   "cell_type": "markdown",
   "metadata": {
    "pycharm": {},
    "slideshow": {
     "slide_type": "slide"
    }
   },
   "source": [
    "* I have published essentially the code above on LinkedIn in 2017.\n",
    "* I got approximately 270 likes (that's $10\\,\\sigma$ for me), numerous comments and a few private messages.\n",
    "* https://www.linkedin.com/pulse/implement-cta-less-than-10-lines-code-thomas-schmelzer/"
   ]
  },
  {
   "cell_type": "markdown",
   "metadata": {
    "pycharm": {},
    "slideshow": {
     "slide_type": "slide"
    }
   },
   "source": [
    "* All systems we have seen are **univariate** and lack risk management (adding assets will increase the risk).\n",
    "* It's a good idea to scale positions with the inverse volatility.\n",
    "* The maintenance of univariate systems is almost trivial.\n",
    "* All systems operate in the space of cash positions.\n"
   ]
  },
  {
   "cell_type": "markdown",
   "metadata": {
    "pycharm": {},
    "slideshow": {
     "slide_type": "slide"
    }
   },
   "source": [
    "# My personal Views\n",
    "* Strategies should be **multivariate** as assets tend to be highly correlated.\n",
    "* A strategy should measure and control the risk.\n",
    "* The cash position is of limited use (in the context of futures).\n",
    "* It's helpful to allocate risk rather than capital (although both ideas are equivalent).\n",
    "* Data is here to correct **bias**. Having a strong bias is helpful and required. "
   ]
  },
  {
   "cell_type": "markdown",
   "metadata": {
    "pycharm": {},
    "slideshow": {
     "slide_type": "slide"
    }
   },
   "source": [
    "We take the step from univariate to multivariate systems and interpret univariate systems as a special case of the new class:\n",
    "\n",
    "[Optimization](Optimization.ipynb)"
   ]
  },
  {
   "cell_type": "markdown",
   "metadata": {
    "pycharm": {},
    "slideshow": {
     "slide_type": "slide"
    }
   },
   "source": [
    "In a fourth experiment we use the diagonal Markowitz approach\n",
    "\n",
    "[Experiment 4](Experiment4.ipynb)"
   ]
  },
  {
   "cell_type": "markdown",
   "metadata": {
    "pycharm": {},
    "slideshow": {
     "slide_type": "slide"
    }
   },
   "source": [
    "In a fifth experiment we run Markowitz (with shrinkage in the sample correlation matrix) on a Futures portfolio\n",
    "\n",
    "[Experiment 5](Experiment5.ipynb)"
   ]
  },
  {
   "cell_type": "markdown",
   "metadata": {
    "pycharm": {},
    "slideshow": {
     "slide_type": "slide"
    }
   },
   "source": [
    "# Conclusions I\n",
    "* Applying two moving averages gives a somewhat promising start (Experiment 1)\n",
    "* All positions should be scaled by the inverse price volatility (Experiment 2)\n",
    "* Using adjusted prices and scaled signals helps to address data problems and opens the door for statistics (Experiment 3)"
   ]
  },
  {
   "cell_type": "markdown",
   "metadata": {
    "pycharm": {},
    "slideshow": {
     "slide_type": "slide"
    }
   },
   "source": [
    "# Conclusions II\n",
    "* Asset allocation can be done both in cash and risk space. Risk wins (Optimization)\n",
    "* The common univariate systems are closely related to diagonal Markowitz (Experiment 4)\n",
    "* Ignoring cross correlations is a bad idea (Experiment 5)\n",
    "* The **smart combination of univariate trading systems** is extremely helpful to boost returns."
   ]
  },
  {
   "cell_type": "markdown",
   "metadata": {
    "pycharm": {},
    "slideshow": {
     "slide_type": "slide"
    }
   },
   "source": [
    "# What you haven't seen I\n",
    "* In practice you hardly can rely on the analytic solution of convex problems. Need solvers such as Mosek (and cvxpy). \n",
    "* We optimized the expected return (in risk space). In practice it's a good idea to apply regularization here (Ridge, Lasso, Elastic Nets) and introduce some mock trading costs to tame the trading activity. A typcial Markowitz system will trade far less than the univariate system. \n",
    "* Applying Lasso/Elastic Nets regularization opens the door for sparse updates."
   ]
  },
  {
   "cell_type": "markdown",
   "metadata": {
    "pycharm": {},
    "slideshow": {
     "slide_type": "slide"
    }
   },
   "source": [
    "# What you haven't seen II\n",
    "* The construction of more powerful signals is about the **smart combination of standard signals** by using convex programming (Index-Tracking).\n",
    "* We treated all underlying markets the same, e.g. did not distinguish capacity or measure market share\n",
    "* We did not address the problem of low volatilities, e.g. the system will operate with often huge positions (lack of volatility in interest rates). Constraints on the leverage help here..."
   ]
  }
 ],
 "metadata": {
  "celltoolbar": "Slideshow",
  "kernelspec": {
   "display_name": "Python 3",
   "language": "python",
   "name": "python3"
  },
  "language_info": {
   "codemirror_mode": {
    "name": "ipython",
    "version": 3
   },
   "file_extension": ".py",
   "mimetype": "text/x-python",
   "name": "python",
   "nbconvert_exporter": "python",
   "pygments_lexer": "ipython3",
   "version": "3.8.6"
  },
  "toc": {
   "base_numbering": 1,
   "nav_menu": {},
   "number_sections": false,
   "sideBar": false,
   "skip_h1_title": false,
   "title_cell": "Table of Contents",
   "title_sidebar": "Contents",
   "toc_cell": false,
   "toc_position": {},
   "toc_section_display": false,
   "toc_window_display": false
  }
 },
 "nbformat": 4,
 "nbformat_minor": 4
}
