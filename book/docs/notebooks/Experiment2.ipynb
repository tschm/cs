{
 "cells": [
  {
   "cell_type": "code",
   "execution_count": null,
   "metadata": {
    "pycharm": {},
    "slideshow": {
     "slide_type": "slide"
    }
   },
   "outputs": [],
   "source": [
    "import pandas as pd\n",
    "import numpy as np\n",
    "\n",
    "from pycta.portfolio import Portfolio\n",
    "from pycta.analysis import Analysis\n",
    "\n",
    "# Import the necessaries libraries\n",
    "import plotly.offline as pyo\n",
    "# Set notebook mode to work in offline\n",
    "pyo.init_notebook_mode()\n",
    "\n",
    "pd.options.plotting.backend = \"plotly\""
   ]
  },
  {
   "cell_type": "code",
   "execution_count": null,
   "metadata": {
    "pycharm": {},
    "slideshow": {
     "slide_type": "slide"
    }
   },
   "outputs": [],
   "source": [
    "# Load prices\n",
    "prices = pd.read_csv(\"data/p_ob.csv\", index_col=0, parse_dates=True).ffill().truncate(before=\"1970-01-01\")"
   ]
  },
  {
   "cell_type": "code",
   "execution_count": null,
   "metadata": {
    "pycharm": {},
    "slideshow": {
     "slide_type": "slide"
    }
   },
   "outputs": [],
   "source": [
    "# take two moving averages and apply the sign-function, adjust by volatility\n",
    "def f(price, fast=32, slow=96, volatility=32):\n",
    "    s = price.ewm(com=slow, min_periods=300).mean()\n",
    "    f = price.ewm(com=fast, min_periods=300).mean()\n",
    "    std = price.pct_change().ewm(com=volatility, min_periods=300).std()\n",
    "    return np.sign(f-s)/std"
   ]
  },
  {
   "cell_type": "code",
   "execution_count": null,
   "metadata": {
    "pycharm": {},
    "slideshow": {
     "slide_type": "slide"
    }
   },
   "outputs": [],
   "source": [
    "from ipywidgets import Label, HBox, VBox, IntSlider\n",
    "\n",
    "fast = IntSlider(min=4, max=192, step=4, value=32)\n",
    "slow = IntSlider(min=4, max=192, step=4, value=96)\n",
    "vola = IntSlider(min=4, max=192, step=4, value=32)\n",
    "left_box = VBox([Label(\"Fast Moving Average\"), Label(\"Slow Moving Average\"), Label(\"Volatility\")])\n",
    "right_box = VBox([fast, slow, vola])\n",
    "HBox([left_box, right_box])"
   ]
  },
  {
   "cell_type": "code",
   "execution_count": null,
   "metadata": {
    "pycharm": {},
    "slideshow": {
     "slide_type": "slide"
    },
    "tags": [
     "run"
    ]
   },
   "outputs": [],
   "source": [
    "portfolio = Portfolio(prices=prices, position=prices.apply(f, fast=fast.value, slow=slow.value, volatility=vola.value))"
   ]
  },
  {
   "cell_type": "code",
   "execution_count": null,
   "metadata": {
    "pycharm": {
     "name": "#%%\n"
    },
    "slideshow": {
     "slide_type": "slide"
    }
   },
   "outputs": [],
   "source": [
    "a = Analysis(portfolio.nav())\n",
    "a.performance"
   ]
  },
  {
   "cell_type": "code",
   "execution_count": null,
   "metadata": {
    "pycharm": {
     "name": "#%%\n"
    },
    "slideshow": {
     "slide_type": "slide"
    }
   },
   "outputs": [],
   "source": [
    "a.nav.plot(log_y=True)"
   ]
  },
  {
   "cell_type": "code",
   "execution_count": null,
   "metadata": {
    "pycharm": {
     "name": "#%%\n"
    },
    "slideshow": {
     "slide_type": "slide"
    }
   },
   "outputs": [],
   "source": [
    "a.monthlytable.head(5)"
   ]
  },
  {
   "cell_type": "code",
   "execution_count": null,
   "metadata": {
    "pycharm": {
     "name": "#%%\n"
    },
    "slideshow": {
     "slide_type": "slide"
    }
   },
   "outputs": [],
   "source": [
    "a.std.plot()"
   ]
  },
  {
   "cell_type": "markdown",
   "metadata": {
    "pycharm": {},
    "slideshow": {
     "slide_type": "slide"
    }
   },
   "source": [
    "* This is a **univariate** trading system, we map the (real) price of an asset to its (cash)position\n",
    "* Only 3 **free parameters** used here.\n",
    "* Only 4 lines of code\n",
    "* Scaling the bet-size by volatility has improved the situation."
   ]
  },
  {
   "cell_type": "markdown",
   "metadata": {
    "pycharm": {},
    "slideshow": {
     "slide_type": "slide"
    }
   },
   "source": [
    "Results do not look terrible but...\n",
    "* No concept of risk integrated \n",
    "\n",
    "Often hedge funds outsource the risk management to some board or committee\n",
    "and develop machinery for more systematic **parameter-hacking**."
   ]
  }
 ],
 "metadata": {
  "celltoolbar": "Slideshow",
  "kernelspec": {
   "display_name": "Python 3",
   "language": "python",
   "name": "python3"
  },
  "language_info": {
   "codemirror_mode": {
    "name": "ipython",
    "version": 3
   },
   "file_extension": ".py",
   "mimetype": "text/x-python",
   "name": "python",
   "nbconvert_exporter": "python",
   "pygments_lexer": "ipython3",
   "version": "3.8.6"
  },
  "toc": {
   "base_numbering": 1,
   "nav_menu": {},
   "number_sections": false,
   "sideBar": false,
   "skip_h1_title": false,
   "title_cell": "Table of Contents",
   "title_sidebar": "Contents",
   "toc_cell": false,
   "toc_position": {},
   "toc_section_display": false,
   "toc_window_display": false
  }
 },
 "nbformat": 4,
 "nbformat_minor": 4
}