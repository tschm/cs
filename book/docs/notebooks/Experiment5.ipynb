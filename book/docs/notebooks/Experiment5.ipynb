{
 "cells": [
  {
   "cell_type": "code",
   "execution_count": null,
   "metadata": {
    "pycharm": {},
    "slideshow": {
     "slide_type": "slide"
    }
   },
   "outputs": [],
   "source": [
    "import pandas as pd\n",
    "import numpy as np\n",
    "import time\n",
    "\n",
    "from pycta.portfolio import Portfolio\n",
    "from pycta.analysis import Analysis\n",
    "from pycta.linalg import *\n",
    "from pycta.signal import *\n",
    "\n",
    "# Import the necessaries libraries\n",
    "import plotly.offline as pyo\n",
    "# Set notebook mode to work in offline\n",
    "pyo.init_notebook_mode()\n",
    "\n",
    "pd.options.plotting.backend = \"plotly\"\n"
   ]
  },
  {
   "cell_type": "code",
   "execution_count": null,
   "metadata": {
    "pycharm": {},
    "slideshow": {
     "slide_type": "slide"
    }
   },
   "outputs": [],
   "source": [
    "# Load prices\n",
    "prices = pd.read_csv(\"data/p_ob.csv\", index_col=0, parse_dates=True).ffill().truncate(before=\"1970-01-01\")"
   ]
  },
  {
   "cell_type": "code",
   "execution_count": null,
   "metadata": {
    "pycharm": {},
    "slideshow": {
     "slide_type": "slide"
    }
   },
   "outputs": [],
   "source": [
    "from ipywidgets import Label, HBox, VBox, IntSlider, FloatSlider\n",
    "\n",
    "fast = IntSlider(min=4, max=192, step=4, value=32)\n",
    "slow = IntSlider(min=4, max=192, step=4, value=96)\n",
    "vola = IntSlider(min=4, max=192, step=4, value=32)\n",
    "winsor = FloatSlider(min=1.0, max=6.0, step=0.1, value=4.2)\n",
    "corr = IntSlider(min=50, max=500, step=10, value=200)\n",
    "shrinkage = FloatSlider(min=0.0, max=1.0, step=0.05, value=0.5)\n",
    "left_box = VBox([Label(\"Fast Moving Average\"), \n",
    "                 Label(\"Slow Moving Average\"), \n",
    "                 Label(\"Volatility\"), \n",
    "                 Label(\"Winsorizing\"),\n",
    "                 Label(\"Correlation\"),\n",
    "                 Label(\"Shrinkage\")])\n",
    "\n",
    "right_box = VBox([fast, slow, vola, winsor, corr, shrinkage])\n",
    "HBox([left_box, right_box])"
   ]
  },
  {
   "cell_type": "code",
   "execution_count": null,
   "metadata": {
    "slideshow": {
     "slide_type": "slide"
    }
   },
   "outputs": [],
   "source": [
    "T = time.time()\n",
    "correlation = corr.value\n",
    "\n",
    "# this is a lot faster than Pandas...\n",
    "position = np.nan*np.zeros_like(prices.values)\n",
    "\n",
    "returns_adj = prices.apply(returns_adjust, com=vola.value, clip=winsor.value)\n",
    "# DCC by Engle\n",
    "cor = returns_adj.ewm(com=corr.value, min_periods=corr.value).corr()\n",
    "\n",
    "mu = np.tanh(returns_adj.cumsum().apply(osc)).values\n",
    "vo = prices.pct_change().ewm(com=vola.value, min_periods=vola.value).std().values\n",
    "\n",
    "for n,t in enumerate(prices.index):\n",
    "    matrix = shrink2id(cor.loc[t].values, lamb=shrinkage.value)\n",
    "    risk_position = solve(matrix, mu[n])/inv_a_norm(mu[n], matrix)\n",
    "    position[n] = risk_position/vo[n]\n",
    "\n",
    "portfolio = Portfolio(prices, pd.DataFrame(index=prices.index, columns=prices.keys(), data=position))\n",
    "print(time.time()-T)\n"
   ]
  },
  {
   "cell_type": "code",
   "execution_count": null,
   "metadata": {
    "pycharm": {
     "name": "#%%\n"
    },
    "slideshow": {
     "slide_type": "slide"
    }
   },
   "outputs": [],
   "source": [
    "a = Analysis(portfolio.nav())\n",
    "a.performance"
   ]
  },
  {
   "cell_type": "code",
   "execution_count": null,
   "metadata": {
    "pycharm": {
     "name": "#%%\n"
    },
    "slideshow": {
     "slide_type": "slide"
    }
   },
   "outputs": [],
   "source": [
    "a.nav.plot(log_y=True)"
   ]
  },
  {
   "cell_type": "code",
   "execution_count": null,
   "metadata": {
    "pycharm": {
     "name": "#%%\n"
    },
    "slideshow": {
     "slide_type": "slide"
    }
   },
   "outputs": [],
   "source": [
    "a.monthlytable.head(5)"
   ]
  },
  {
   "cell_type": "code",
   "execution_count": null,
   "metadata": {
    "pycharm": {
     "name": "#%%\n"
    },
    "slideshow": {
     "slide_type": "slide"
    }
   },
   "outputs": [],
   "source": [
    "a.std.plot()"
   ]
  },
  {
   "cell_type": "markdown",
   "metadata": {
    "pycharm": {},
    "slideshow": {
     "slide_type": "slide"
    }
   },
   "source": [
    "# Conclusions\n",
    "* Dramatic relativ improvements observable despite using the same signals as in previous Experiment.\n",
    "* Main difference here is to take advantage of cross-correlations in the risk measurement.\n",
    "* Possible to add constraints on individual assets or groups of them.\n",
    "* Possible to reflect trading costs in objective with regularization terms (Ridge, Lars, Elastic Nets, ...)"
   ]
  }
 ],
 "metadata": {
  "celltoolbar": "Slideshow",
  "kernelspec": {
   "display_name": "Python 3",
   "language": "python",
   "name": "python3"
  },
  "language_info": {
   "codemirror_mode": {
    "name": "ipython",
    "version": 3
   },
   "file_extension": ".py",
   "mimetype": "text/x-python",
   "name": "python",
   "nbconvert_exporter": "python",
   "pygments_lexer": "ipython3",
   "version": "3.8.6"
  },
  "toc": {
   "base_numbering": 1,
   "nav_menu": {},
   "number_sections": false,
   "sideBar": false,
   "skip_h1_title": false,
   "title_cell": "Table of Contents",
   "title_sidebar": "Contents",
   "toc_cell": false,
   "toc_position": {},
   "toc_section_display": false,
   "toc_window_display": false
  }
 },
 "nbformat": 4,
 "nbformat_minor": 4
}
