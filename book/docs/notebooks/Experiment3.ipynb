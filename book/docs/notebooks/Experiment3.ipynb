{
 "cells": [
  {
   "cell_type": "code",
   "execution_count": null,
   "metadata": {
    "pycharm": {},
    "slideshow": {
     "slide_type": "skip"
    }
   },
   "outputs": [],
   "source": [
    "import pandas as pd\n",
    "\n",
    "from pycta.portfolio import Portfolio\n",
    "from pycta.analysis import Analysis\n",
    "\n",
    "# Import the necessaries libraries\n",
    "import plotly.offline as pyo\n",
    "# Set notebook mode to work in offline\n",
    "pyo.init_notebook_mode()\n",
    "\n",
    "pd.options.plotting.backend = \"plotly\""
   ]
  },
  {
   "cell_type": "code",
   "execution_count": null,
   "metadata": {
    "pycharm": {},
    "slideshow": {
     "slide_type": "skip"
    }
   },
   "outputs": [],
   "source": [
    "# Load prices\n",
    "prices = pd.read_csv(\"data/p_ob.csv\", index_col=0, parse_dates=True).ffill().truncate(before=\"1970-01-01\")"
   ]
  },
  {
   "cell_type": "markdown",
   "metadata": {
    "pycharm": {},
    "slideshow": {
     "slide_type": "slide"
    }
   },
   "source": [
    "We use the system:\n",
    "$$\\mathrm{CashPosition}=\\frac{f(\\mathrm{Price})}{\\mathrm{Volatility(Returns)}}$$\n",
    "\n",
    "This is very problematic:\n",
    "* Prices may live on very different scales, hence trying to find a more universal function $f$ is almost impossible. The sign-function was a good choice as the results don't depend on the scale of the argument.\n",
    "* Price may come with all sorts of spikes/outliers/problems."
   ]
  },
  {
   "cell_type": "markdown",
   "metadata": {
    "pycharm": {},
    "slideshow": {
     "slide_type": "slide"
    }
   },
   "source": [
    "We need a simple price filter process\n",
    "* We compute volatility-adjusted returns, filter them and compute prices from those returns. \n",
    "* Don't call it Winsorizing in Switzerland. We apply Huber functions. \n"
   ]
  },
  {
   "cell_type": "code",
   "execution_count": null,
   "metadata": {
    "pycharm": {},
    "slideshow": {
     "slide_type": "slide"
    }
   },
   "outputs": [],
   "source": [
    "def filter(price, volatility=32,clip=4.2, min_periods=300):    \n",
    "    r = np.log(price).diff()\n",
    "    vola = r.ewm(com=volatility, min_periods=min_periods).std()\n",
    "    price_adj = (r/vola).clip(-clip, clip).cumsum()\n",
    "    return price_adj"
   ]
  },
  {
   "cell_type": "markdown",
   "metadata": {
    "pycharm": {},
    "slideshow": {
     "slide_type": "slide"
    }
   },
   "source": [
    "### Oscillators\n",
    "* All prices are now following a standard arithmetic Brownian motion with std $1$.\n",
    "* What we want is the difference of two moving means (exponentially weighted) to have a constant std regardless of the two lengths.\n",
    "* An oscillator is the **scaled difference of two moving averages**.\n"
   ]
  },
  {
   "cell_type": "code",
   "execution_count": null,
   "metadata": {
    "pycharm": {},
    "slideshow": {
     "slide_type": "slide"
    }
   },
   "outputs": [],
   "source": [
    "import numpy as np\n",
    "def osc(prices, fast=32, slow=96, scaling=True):\n",
    "    diff = prices.ewm(com=fast-1).mean() - prices.ewm(com=slow-1).mean()\n",
    "    if scaling:\n",
    "        s = diff.std()\n",
    "    else:\n",
    "        s = 1\n",
    "\n",
    "    return diff/s"
   ]
  },
  {
   "cell_type": "code",
   "execution_count": null,
   "metadata": {
    "pycharm": {},
    "slideshow": {
     "slide_type": "slide"
    }
   },
   "outputs": [],
   "source": [
    "from numpy.random import randn\n",
    "import pandas as pd\n",
    "price = pd.Series(data=randn(100000)).cumsum()\n",
    "\n",
    "o = osc(price, 40, 200, scaling=True)\n",
    "print(\"The std for the oscillator (Should be close to 1.0):\")\n",
    "print(np.std(o))"
   ]
  },
  {
   "cell_type": "code",
   "execution_count": null,
   "metadata": {
    "pycharm": {},
    "slideshow": {
     "slide_type": "slide"
    }
   },
   "outputs": [],
   "source": [
    "#from pycta.signal import osc\n",
    "\n",
    "# take two moving averages and apply tanh\n",
    "def f(price, slow=96, fast=32, vola=96, clip=3):\n",
    "    # construct a fake-price, those fake-prices have homescedastic returns\n",
    "    price_adj = filter(price, volatility=vola, clip=clip)\n",
    "    # compute mu\n",
    "    mu = np.tanh(osc(price_adj, fast=fast, slow=slow))\n",
    "    return mu/price.pct_change().ewm(com=slow, min_periods=300).std()"
   ]
  },
  {
   "cell_type": "code",
   "execution_count": null,
   "metadata": {},
   "outputs": [],
   "source": [
    "from ipywidgets import Label, HBox, VBox, IntSlider, FloatSlider\n",
    "\n",
    "fast = IntSlider(min=4, max=192, step=4, value=32)\n",
    "slow = IntSlider(min=4, max=192, step=4, value=96)\n",
    "vola = IntSlider(min=4, max=192, step=4, value=32)\n",
    "winsor = FloatSlider(min=1.0, max=6.0, step=0.1, value=4.2)\n",
    "left_box = VBox([Label(\"Fast Moving Average\"), Label(\"Slow Moving Average\"), Label(\"Volatility\"), Label(\"Winsorizing\")])\n",
    "right_box = VBox([fast, slow, vola, winsor])\n",
    "HBox([left_box, right_box])"
   ]
  },
  {
   "cell_type": "code",
   "execution_count": null,
   "metadata": {
    "pycharm": {},
    "slideshow": {
     "slide_type": "slide"
    }
   },
   "outputs": [],
   "source": [
    "portfolio = Portfolio(prices=prices, position=prices.apply(f, slow=slow.value, fast=fast.value, vola=vola.value, clip=winsor.value))"
   ]
  },
  {
   "cell_type": "code",
   "execution_count": null,
   "metadata": {
    "pycharm": {
     "name": "#%%\n"
    },
    "slideshow": {
     "slide_type": "slide"
    }
   },
   "outputs": [],
   "source": [
    "a = Analysis(portfolio.nav())\n",
    "a.performance"
   ]
  },
  {
   "cell_type": "code",
   "execution_count": null,
   "metadata": {
    "pycharm": {
     "name": "#%%\n"
    },
    "slideshow": {
     "slide_type": "slide"
    }
   },
   "outputs": [],
   "source": [
    "a.nav.plot(log_y=True)"
   ]
  },
  {
   "cell_type": "code",
   "execution_count": null,
   "metadata": {
    "pycharm": {
     "name": "#%%\n"
    },
    "slideshow": {
     "slide_type": "slide"
    }
   },
   "outputs": [],
   "source": [
    "a.monthlytable.head(5)"
   ]
  },
  {
   "cell_type": "code",
   "execution_count": null,
   "metadata": {
    "pycharm": {
     "name": "#%%\n"
    },
    "slideshow": {
     "slide_type": "slide"
    }
   },
   "outputs": [],
   "source": [
    "a.std.plot()"
   ]
  },
  {
   "cell_type": "markdown",
   "metadata": {
    "pycharm": {},
    "slideshow": {
     "slide_type": "slide"
    }
   },
   "source": [
    "This system is still **univariate** and lacks **integrated risk management**:\n",
    "\n",
    "$$\\mathrm{CashPosition}=\\frac{f(\\mathrm{Filter}(\\mathrm{Price}))}{\\mathrm{Volatility(Returns)}}=\\frac{\\mu}{\\mathrm{Volatility}}$$\n",
    "\n",
    "Some hedge funds stop here. All energy goes into constructing $\\mu$."
   ]
  },
  {
   "cell_type": "markdown",
   "metadata": {
    "pycharm": {
     "name": "#%% md\n"
    },
    "slideshow": {
     "slide_type": "slide"
    }
   },
   "source": [
    "* Suitable as it is possible to add/remove additional systems on the fly.\n",
    "* A typical CTA would run with a set of $5$ or $6$ functions $f$ acting on approx. $100$ assets. \n",
    "* Organisation by asset group.\n",
    "* Scaled signals make it easy to apply functions such as $\\tanh$ or combine various signals in a regression problem."
   ]
  }
 ],
 "metadata": {
  "celltoolbar": "Slideshow",
  "kernelspec": {
   "display_name": "Python 3",
   "language": "python",
   "name": "python3"
  },
  "language_info": {
   "codemirror_mode": {
    "name": "ipython",
    "version": 3
   },
   "file_extension": ".py",
   "mimetype": "text/x-python",
   "name": "python",
   "nbconvert_exporter": "python",
   "pygments_lexer": "ipython3",
   "version": "3.8.6"
  },
  "toc": {
   "base_numbering": 1,
   "nav_menu": {},
   "number_sections": false,
   "sideBar": false,
   "skip_h1_title": false,
   "title_cell": "Table of Contents",
   "title_sidebar": "Contents",
   "toc_cell": false,
   "toc_position": {},
   "toc_section_display": false,
   "toc_window_display": false
  }
 },
 "nbformat": 4,
 "nbformat_minor": 4
}