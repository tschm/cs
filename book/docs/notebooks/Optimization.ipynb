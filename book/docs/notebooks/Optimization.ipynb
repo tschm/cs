{
 "cells": [
  {
   "cell_type": "markdown",
   "metadata": {
    "slideshow": {
     "slide_type": "slide"
    }
   },
   "source": [
    "### Univariate Trading systems: $$\\mathrm{Cash\\;Position} = \\mu \\oslash \\mathrm{Volatility}$$\n",
    "Here $\\oslash$ denotes the element-wise division of two vectors of the same length.\n",
    "The vector $\\mu$ is a prediction for the volatility adjusted return."
   ]
  },
  {
   "cell_type": "markdown",
   "metadata": {
    "slideshow": {
     "slide_type": "slide"
    }
   },
   "source": [
    "* Hedge funds embrace the construction of powerful $\\mu$. Quant Researchers, Traders\n",
    "* Less effort is put into constructing a good measure for Volatility (often based on high-frequency data). Volatility shouldn't be too nervous but nevertheless respond fast. \n",
    "* Combination of many such individual systems often considered to be a pure IT problem. Risk Managers or Committee. \n"
   ]
  },
  {
   "cell_type": "markdown",
   "metadata": {
    "slideshow": {
     "slide_type": "slide"
    }
   },
   "source": [
    "# Risk vs. Cash\n",
    "* Asset allocation can be done both in **risk** or in **cash** space. Both approaches are equivalent.\n",
    "* The risk (variance) of the portfolio is \n",
    "$$\n",
    "c^T\\,\\mathbf{Cov}\\,c = (c \\odot \\mathrm{Volatility})^T \\mathbf{Cor}\\,( \\mathrm{Volatility} \\odot c) = x^T \\mathbf{Cor}\\,x\n",
    "$$\n",
    "* The condition number for $\\mathbf{Cor}$ is lower than the condition number for $\\mathbf{Cov}$. \n",
    "* The entries of $x$ will spread less than the entries in $c$. \n",
    "* The entries of $x$ bear more insight than the entries of $c$."
   ]
  },
  {
   "cell_type": "markdown",
   "metadata": {
    "slideshow": {
     "slide_type": "slide"
    }
   },
   "source": [
    "# Risk wins "
   ]
  },
  {
   "cell_type": "markdown",
   "metadata": {},
   "source": [
    "# Expected return\n",
    "$$\n",
    "(c \\odot \\mathrm{Volatility})^T \\mu = x^T \\mu\n",
    "$$\n",
    "# Risk\n",
    "$$\n",
    "x^T \\mathbf{Cor}\\,x\n",
    "$$\n",
    "So let's maximize the expected return while keeping the risk constrained."
   ]
  },
  {
   "cell_type": "markdown",
   "metadata": {
    "slideshow": {
     "slide_type": "slide"
    }
   },
   "source": [
    "![alt text](img/2223.png \"Title\")"
   ]
  },
  {
   "cell_type": "markdown",
   "metadata": {
    "slideshow": {
     "slide_type": "slide"
    }
   },
   "source": [
    "Hence we solve for the risk position the Markowitz problem\n",
    "$$\n",
    "\\arg\\max_{x\\in\\mathbb{R}^n}\\,x^T \\mu\n",
    "$$\n",
    "such that\n",
    "$$\n",
    "x^T \\mathbf{Cor}\\,x \\leq \\sigma^2_{\\mathrm{max}}.\n",
    "$$\n",
    "The solution $x^*$ is the optimal risk position. The analytic solution for $x^*$ is given by\n",
    "$$\n",
    "x^* = \\sigma_{\\mathrm{max}} \\frac{\\mathbf{Cor}^{-1} \\mu}{\\sqrt{\\mu^T\\,\\mathbf{Cor}^{-1}\\,\\mu}}\n",
    "$$"
   ]
  },
  {
   "cell_type": "markdown",
   "metadata": {
    "slideshow": {
     "slide_type": "slide"
    }
   },
   "source": [
    "Note that the term in the denominator $\\sqrt{\\mu^T\\,\\mathbf{Cor}^{-1}\\,\\mu}$ induces a norm (often called the $A$-norm)."
   ]
  },
  {
   "cell_type": "markdown",
   "metadata": {
    "slideshow": {
     "slide_type": "slide"
    }
   },
   "source": [
    "If we assume there are no cross-correlations the correlation matrix boils down to the identity and we get:\n",
    "$$ $$\n",
    "$$\n",
    "x^* = \\sigma_{\\mathrm{max}}\\,{\\mu}\\, /\\, \\lVert   \\mu \\rVert_2\n",
    "$$\n",
    "$$ $$\n",
    "The cash position $c^∗=x^* \\oslash \\mathrm{Volatility}$  is here a scaled version of the original univariate problem.\n"
   ]
  },
  {
   "cell_type": "markdown",
   "metadata": {
    "slideshow": {
     "slide_type": "slide"
    }
   },
   "source": [
    "Note that it would be insane to use the sample correlation matrix. It is important to modify the spectrum of the observed correlation matrices.\n",
    "\n",
    "\n",
    "Study in particular Sin 1 and Sin 2 from \n",
    "https://arxiv.org/pdf/1310.3396.pdf\n"
   ]
  },
  {
   "cell_type": "markdown",
   "metadata": {
    "slideshow": {
     "slide_type": "slide"
    }
   },
   "source": [
    "Conclusions:\n",
    "* We interpret $\\frac{\\mu}{\\mathrm{volatility}}$ as the (unscaled) solution of a convex program.\n",
    "* The univariate trading system is now a special case of much richer class of multivariate trading systems. \n",
    "* We work in the space of risk rather than cash positions.\n",
    "\n"
   ]
  }
 ],
 "metadata": {
  "celltoolbar": "Slideshow",
  "kernelspec": {
   "display_name": "Python 3",
   "language": "python",
   "name": "python3"
  },
  "language_info": {
   "codemirror_mode": {
    "name": "ipython",
    "version": 3
   },
   "file_extension": ".py",
   "mimetype": "text/x-python",
   "name": "python",
   "nbconvert_exporter": "python",
   "pygments_lexer": "ipython3",
   "version": "3.8.6"
  },
  "pycharm": {
   "stem_cell": {
    "cell_type": "raw",
    "metadata": {
     "collapsed": false
    },
    "source": []
   }
  },
  "toc": {
   "base_numbering": 1,
   "nav_menu": {},
   "number_sections": false,
   "sideBar": false,
   "skip_h1_title": false,
   "title_cell": "Table of Contents",
   "title_sidebar": "Contents",
   "toc_cell": false,
   "toc_position": {},
   "toc_section_display": false,
   "toc_window_display": false
  }
 },
 "nbformat": 4,
 "nbformat_minor": 4
}
